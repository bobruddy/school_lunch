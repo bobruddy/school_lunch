{
 "cells": [
  {
   "cell_type": "markdown",
   "id": "8d6ec04a",
   "metadata": {},
   "source": [
    "## This notebook generates an ics file\n",
    "\n",
    "For some reason the kind folks that run my kids color guard program think it is best to have a schedule in google sheets rather than in say, I don't know.... Maybe a calendar. \n",
    "\n",
    "No problem. This fixes that. "
   ]
  },
  {
   "cell_type": "code",
   "execution_count": 3,
   "id": "192efe1e",
   "metadata": {},
   "outputs": [
    {
     "name": "stdout",
     "output_type": "stream",
     "text": [
      "111\n"
     ]
    }
   ],
   "source": [
    "import pandas as pd\n",
    "from ics import Calendar, Event\n",
    "import pytz\n",
    "import re\n",
    "from datetime import timedelta, datetime\n",
    "import sqlite3\n",
    "\n",
    "\n",
    "# grab the data\n",
    "sql = 'select school, datestamp, description, url from lunches where datestamp is not null order by school, datestamp;'\n",
    "results = []\n",
    "with sqlite3.connect('lunch.sqlite') as conn:\n",
    "    cursor = conn.cursor()\n",
    "    cursor.execute( sql )\n",
    "    results = cursor.fetchall()\n",
    "\n",
    "print( len(results))"
   ]
  },
  {
   "cell_type": "code",
   "execution_count": 4,
   "id": "84011bc2",
   "metadata": {},
   "outputs": [],
   "source": [
    "# use this to turn text months into number months\n",
    "months = {\n",
    "    'January': 1, 'February': 2, 'March': 3,\n",
    "    'April': 4, 'May': 5, 'June': 6,\n",
    "    'July': 7, 'August': 8, 'September': 9,\n",
    "    'October': 10, 'November': 11, 'December': 12\n",
    "}"
   ]
  },
  {
   "cell_type": "code",
   "execution_count": 5,
   "id": "85697e5e",
   "metadata": {},
   "outputs": [],
   "source": [
    "# take the calendar items and build an ical object then write it out to the file\n",
    "cal = Calendar()\n",
    "\n",
    "# constants for the description\n",
    "information=r'https://www.avongrove.org/departments/food-services/school-menus'\n",
    "\n",
    "# grab when i was last run so i can see in the calendar if its working\n",
    "#last_updated_str = str( datetime.now( pytz.timezone('US/Eastern') ) )\n",
    "\n",
    "for row in results:\n",
    "    e = Event()\n",
    "    \n",
    "    # grab records for easy reference\n",
    "    school = row[0].upper()\n",
    "    date = row[1]\n",
    "    description = row[2]\n",
    "    url = row[3]\n",
    "    month = None\n",
    "    day = None\n",
    "    year = None\n",
    "        \n",
    "    # parse out the date\n",
    "    match = re.search(r'(\\d\\d\\d\\d)-(\\d+)-(\\d+)', date)\n",
    "    if match:\n",
    "        month = int(match.group(2))\n",
    "        day = int(match.group(3))\n",
    "        year = int(match.group(1))\n",
    "    del match\n",
    "    \n",
    "    # build the event info\n",
    "    e.name = school + ' daily menus\\n'\n",
    "    e.begin = datetime(year, month, day, 11, 0, 0, tzinfo=pytz.timezone('US/Eastern')) - timedelta(minutes=15)\n",
    "\n",
    "    e.end = datetime(year, month, day, 11, 30, 0, tzinfo=pytz.timezone('US/Eastern')) \n",
    "    e.location = 'Avongrove: ' + school\n",
    "    #e.url = url\n",
    "    e.description = school + ' daily menu:\\n\\n' + description + '\\n\\nLink to PDF:\\n' + url + '\\n\\nGeneral Information:\\n' + information\n",
    "    #e.organizer = 'bob@ruddy.net'\n",
    "    \n",
    "    # add event to the calendar\n",
    "    cal.events.add(e)\n",
    "\n",
    "# write out to an ics file\n",
    "ics_file = 'lunch.ics'\n",
    "with open(ics_file, 'w') as my_file:\n",
    "    my_file.writelines(cal)"
   ]
  },
  {
   "cell_type": "markdown",
   "id": "fa4c962a",
   "metadata": {},
   "source": [
    "# run this to copy to server when finished\n",
    "    scp ~ruddy/src/school_lunch/lunch.ics elm:/data/htdocs/elm/lunch.ics"
   ]
  }
 ],
 "metadata": {
  "kernelspec": {
   "display_name": "Python 3 (ipykernel)",
   "language": "python",
   "name": "python3"
  },
  "language_info": {
   "codemirror_mode": {
    "name": "ipython",
    "version": 3
   },
   "file_extension": ".py",
   "mimetype": "text/x-python",
   "name": "python",
   "nbconvert_exporter": "python",
   "pygments_lexer": "ipython3",
   "version": "3.11.1"
  }
 },
 "nbformat": 4,
 "nbformat_minor": 5
}
