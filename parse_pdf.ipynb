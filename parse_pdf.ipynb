{
 "cells": [
  {
   "cell_type": "code",
   "execution_count": 95,
   "id": "b13eebba",
   "metadata": {},
   "outputs": [
    {
     "name": "stdout",
     "output_type": "stream",
     "text": [
      "2\n"
     ]
    }
   ],
   "source": [
    "# importing required modules\n",
    "from pypdf import PdfReader\n",
    "\n",
    "# constants\n",
    "school='ple'\n",
    "menu_url='https://resources.finalsite.net/images/v1680115103/avongrove/id4smcn0vwvltceenuud/AprilPLES2023.pdf'\n",
    " \n",
    "# creating a pdf reader object\n",
    "reader = PdfReader('apr-ple.pdf')\n",
    " \n",
    "# printing number of pages in pdf file\n",
    "print(len(reader.pages))\n",
    " \n",
    "# getting a specific page from the pdf file\n",
    "text = ''\n",
    "for page in reader.pages:\n",
    "    # extracting text from page\n",
    "    text = text + page.extract_text()"
   ]
  },
  {
   "cell_type": "code",
   "execution_count": 96,
   "id": "c7443c1e",
   "metadata": {},
   "outputs": [],
   "source": [
    "filtered = []\n",
    "before = []\n",
    "import sqlite3\n",
    "import re\n",
    "\n",
    "# regex patterns\n",
    "pattern_milk = re.compile( 'Milk\\s+Choice[\\s\\S\\n]*$' )\n",
    "pattern_newlines = re.compile( '\\s*\\n\\s*' )\n",
    "pattern_extra_spaces = re.compile( '\\s\\s+' )\n",
    "\n",
    "with sqlite3.connect('lunch.sqlite') as conn:\n",
    "    insert_sql = 'insert into lunches (school, description, url) values (?,?,?);'\n",
    "\n",
    "    for line in text.split('Breakfast'):\n",
    "        if 'Lunch' in line:\n",
    "            test = []\n",
    "            test = line.split('Lunch')\n",
    "            lunch = test[1]\n",
    "            before.append( line )\n",
    "            lunch = re.sub( pattern_newlines, '\\n', lunch)\n",
    "            lunch = re.sub( pattern_extra_spaces, ' ', lunch)\n",
    "            lunch = re.sub( pattern_milk, '', lunch)\n",
    "            lunch = lunch.strip()\n",
    "            conn.execute( insert_sql, (school, line, menu_url ))\n",
    "            filtered.append(lunch)\n"
   ]
  },
  {
   "cell_type": "code",
   "execution_count": 25,
   "id": "b9019c37",
   "metadata": {},
   "outputs": [],
   "source": [
    "import sqlite3\n",
    "\n",
    "conn = sqlite3.connect('lunch.sqlite')\n",
    "\n",
    "sql = '''\n",
    "select * from lunches\n",
    "'''\n",
    "\n",
    "conn.execute( sql )\n",
    "\n",
    "conn.close()"
   ]
  },
  {
   "cell_type": "code",
   "execution_count": 47,
   "id": "9fb861b7",
   "metadata": {},
   "outputs": [
    {
     "name": "stdout",
     "output_type": "stream",
     "text": [
      "Opened database successfully\n",
      "Table created successfully\n"
     ]
    }
   ],
   "source": [
    "import sqlite3\n",
    "\n",
    "conn = sqlite3.connect('lunch.sqlite')\n",
    "print( \"Opened database successfully\")\n",
    "\n",
    "sql = '''\n",
    "create table lunches (\n",
    "    school text not null,\n",
    "    datestamp date, \n",
    "    description text not null,\n",
    "    id INTEGER PRIMARY KEY AUTOINCREMENT\n",
    ");\n",
    "'''\n",
    "\n",
    "conn.execute( sql )\n",
    "\n",
    "print( \"Table created successfully\")\n",
    "\n",
    "conn.close()"
   ]
  }
 ],
 "metadata": {
  "kernelspec": {
   "display_name": "Python 3 (ipykernel)",
   "language": "python",
   "name": "python3"
  },
  "language_info": {
   "codemirror_mode": {
    "name": "ipython",
    "version": 3
   },
   "file_extension": ".py",
   "mimetype": "text/x-python",
   "name": "python",
   "nbconvert_exporter": "python",
   "pygments_lexer": "ipython3",
   "version": "3.11.1"
  }
 },
 "nbformat": 4,
 "nbformat_minor": 5
}
